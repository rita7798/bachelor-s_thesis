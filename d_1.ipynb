{
 "cells": [
  {
   "cell_type": "code",
   "execution_count": 106,
   "metadata": {},
   "outputs": [],
   "source": [
    "import json\n",
    "import matplotlib.pyplot as plt\n",
    "import numpy as np\n",
    "import operator\n",
    "import os\n",
    "import re\n",
    "import warnings\n",
    "from nltk.corpus import stopwords\n",
    "from PIL import Image  \n",
    "from pymystem3 import Mystem\n",
    "from stop_words import get_stop_words \n",
    "from wordcloud import WordCloud\n",
    "\n",
    "warnings.filterwarnings('ignore')\n",
    "%matplotlib inline\n",
    "mystem = Mystem()\n",
    "stops = get_stop_words('ru')"
   ]
  },
  {
   "cell_type": "code",
   "execution_count": 107,
   "metadata": {},
   "outputs": [],
   "source": [
    "def list_of_files(folder):\n",
    "    arr = []\n",
    "    for i in os.listdir(path=\"{}\".format(folder)):\n",
    "        if i != '.DS_Store':\n",
    "            arr.append(i)\n",
    "    return arr"
   ]
  },
  {
   "cell_type": "code",
   "execution_count": 108,
   "metadata": {},
   "outputs": [],
   "source": [
    "def text(name = file):\n",
    "    with open ('{}{}'.format(folder, name), 'r', encoding='utf-8') as f:\n",
    "        t_ = f.read()\n",
    "        t = re.search('<body>(.*)</body>', t_, re.S)\n",
    "        match = t.group()\n",
    "        match = re.sub('\\n\\s*', ' ', match)\n",
    "        match = match.split(' <sp who=\"#')\n",
    "    return match"
   ]
  },
  {
   "cell_type": "code",
   "execution_count": 137,
   "metadata": {},
   "outputs": [],
   "source": [
    "def extracting(match = speeches):\n",
    "    d = {}\n",
    "    a = input()\n",
    "    if a == '1':\n",
    "        return\n",
    "    a = a.split(' ')\n",
    "    for line in range(len(match[:-1])):\n",
    "        if match[line].startswith('{}'.format(a[0])) == True or \\\n",
    "            match[line].startswith('{}'.format(a[1])) == True or \\\n",
    "            match[line].startswith('{}'.format(a[3])) == True or \\\n",
    "            match[line].startswith('{}'.format(a[4])) == True or \\\n",
    "            match[line].startswith('{}'.format(a[5])) == True or \\\n",
    "            match[line].startswith('{}'.format(a[6])) == True or \\\n",
    "            match[line].startswith('{}'.format(a[7])) == True or \\\n",
    "            match[line].startswith('{}'.format(a[2])) == True:\n",
    "                line2 = line + 1\n",
    "                if match[line2].startswith('{}'.format(a[0])) == True or \\\n",
    "                match[line2].startswith('{}'.format(a[1])) == True or \\\n",
    "                match[line2].startswith('{}'.format(a[3])) == True or \\\n",
    "                match[line2].startswith('{}'.format(a[4])) == True or \\\n",
    "                match[line2].startswith('{}'.format(a[5])) == True or \\\n",
    "                match[line2].startswith('{}'.format(a[6])) == True or \\\n",
    "                match[line2].startswith('{}'.format(a[7])) == True or \\\n",
    "                match[line2].startswith('{}'.format(a[2])) == True:\n",
    "                    pattern ='({}|{}|{}|{}|{}|{}|{}|{}).*?\\\">.*<p>(.*)<\\/p>'.format(a[0], a[1], a[2], a[3], a[4], a[5], a[6], a[7])\n",
    "                    res1 = re.search(pattern, match[line])\n",
    "                    res2 = re.search(pattern, match[line2])\n",
    "                    try:\n",
    "                        if res1.group(2):\n",
    "                            pattern = '(<stage>|<note).*</(stage|note)>'\n",
    "                            text1_ = re.sub(pattern, '', res1.group(2))\n",
    "                            text2_ = re.sub(pattern, '', res2.group(2))\n",
    "                            text1 = text1_ + ' '\n",
    "                            text2 = text2_ + ' '\n",
    "                    except:\n",
    "                        pattern = '({}|{}|{}|{}|{}|{}|{}|{}).*?(</speaker>|</stage>)\\s<(lg|l|p|l part.*)>(.*)</(l|p|lg)>'.format(a[0], a[1], a[2], a[3], a[4], a[5], a[6], a[7])\n",
    "                        res1 = re.search(pattern, match[line])\n",
    "                        res2 = re.search(pattern, match[line2])\n",
    "                        try:\n",
    "                            if res1.group(4): \n",
    "                                pattern = '(<stage>|<note).*</(stage|note)>'\n",
    "                                text1_ = re.sub(pattern, '', res1.group(4))\n",
    "                                text2_ = re.sub(pattern, '', res2.group(4))\n",
    "                                text1 = text1_ + ' '\n",
    "                                text2 = text2_ + ' '\n",
    "                        except:\n",
    "                            print(file+' error')\n",
    "                            break\n",
    "                    pattern2 = '<\\/(l|p)>\\s{0,2}(<pb.*\\/>\\s)?<l( part=\\\\\"\\w{1,3}\\\\\")?>'\n",
    "                    text1_ = re.sub(pattern2, ' ', text1_)\n",
    "                    text2_ = re.sub(pattern2, ' ', text2_)\n",
    "                    #pattern3 = '<l( part.*)?>(.*)</l>'\n",
    "                    #text1 = re.search(pattern3, text1_)\n",
    "                    #try:\n",
    "                     #   if text1.group(2):\n",
    "                      #      text1_ = text1.group(2)\n",
    "                       #     text2 = re.search(pattern3, text2_)\n",
    "                        #    text2_ = text2.group(2)\n",
    "                    #except:\n",
    "                     #   continue\n",
    "                    text1 = text1_ + ' '\n",
    "                    text2 = text2_ + ' '\n",
    "                    if res1.group(1) in d:\n",
    "                        if text1 not in d[res1.group(1)]:\n",
    "                            d[res1.group(1)] += text1\n",
    "                    else:\n",
    "                        d[res1.group(1)] = text1\n",
    "                    if res2.group(1) in d:\n",
    "                        if text2 not in d[res2.group(1)]:\n",
    "                            d[res2.group(1)] += text2\n",
    "                    else:\n",
    "                        d[res2.group(1)] = text2\n",
    "    return d"
   ]
  },
  {
   "cell_type": "code",
   "execution_count": 138,
   "metadata": {},
   "outputs": [],
   "source": [
    "def save(clique):\n",
    "    with open('{}{}.json'.format(folder, file_), 'w') as f:\n",
    "        f.write(json.dumps(clique, ensure_ascii=False))"
   ]
  },
  {
   "cell_type": "code",
   "execution_count": null,
   "metadata": {},
   "outputs": [],
   "source": []
  },
  {
   "cell_type": "code",
   "execution_count": 139,
   "metadata": {},
   "outputs": [
    {
     "name": "stdout",
     "output_type": "stream",
     "text": [
      "naydyonov-deti-vanjushina.xml\n",
      "arina_ivanovna vanjushin aleksej konstantin katja anja klavdija ljudmila\n",
      "naydyonov-deti-vanjushina\n",
      "\n",
      "\n",
      "griboyedov-gore-ot-uma.xml\n",
      "knjaz knjaginja pervaja_knjazhna vtoraja_knjazhna tretja_knjazhna chetviortaja_knjazhna pjataja_knjazhna shestaja_knjazhna\n",
      "griboyedov-gore-ot-uma\n",
      "\n",
      "\n"
     ]
    }
   ],
   "source": [
    "folders = ['./родители/']\n",
    "for folder in folders:\n",
    "    files = list_of_files(folder)\n",
    "    for file in files:\n",
    "        if file.endswith('.xml'):\n",
    "            print(file)\n",
    "            file_ = file.rstrip('.xml')\n",
    "            speeches = text(file)\n",
    "            clique = extracting(speeches)\n",
    "            save(clique)\n",
    "            print(file_)\n",
    "            print('\\n')"
   ]
  },
  {
   "cell_type": "code",
   "execution_count": null,
   "metadata": {},
   "outputs": [],
   "source": []
  },
  {
   "cell_type": "code",
   "execution_count": null,
   "metadata": {},
   "outputs": [],
   "source": []
  }
 ],
 "metadata": {
  "kernelspec": {
   "display_name": "Python 3",
   "language": "python",
   "name": "python3"
  },
  "language_info": {
   "codemirror_mode": {
    "name": "ipython",
    "version": 3
   },
   "file_extension": ".py",
   "mimetype": "text/x-python",
   "name": "python",
   "nbconvert_exporter": "python",
   "pygments_lexer": "ipython3",
   "version": "3.6.4"
  }
 },
 "nbformat": 4,
 "nbformat_minor": 2
}
